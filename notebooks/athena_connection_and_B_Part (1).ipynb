{
 "cells": [
  {
   "cell_type": "markdown",
   "id": "fc9caa46-7dbc-4680-b35c-b80ec43c2c63",
   "metadata": {
    "tags": []
   },
   "source": [
    "# Athena Details"
   ]
  },
  {
   "cell_type": "code",
   "execution_count": null,
   "id": "03cf791e-a092-44ac-bf55-cbd59defd5d3",
   "metadata": {
    "tags": []
   },
   "outputs": [],
   "source": [
    "#Connecting with s3 \n",
    "import boto3\n",
    "\n",
    "data_lake_access_role_arn = \"arn:aws:iam::511372950887:role/askdb-project-role-llm-bi\"\n",
    "region = \"us-east-1\"\n",
    "\n",
    "# get boto3 base session\n",
    "base_session = boto3.Session()\n",
    "\n",
    "# get credentials for the data-lake-access role\n",
    "sts_client = base_session.client(\"sts\")\n",
    "\n",
    "response = sts_client.assume_role(\n",
    "            RoleArn=data_lake_access_role_arn,  \n",
    "\n",
    "            RoleSessionName=\"example1\",)\n",
    "\n",
    "boto_session_data_lake_access = boto3.Session(\n",
    "        aws_access_key_id=response[\"Credentials\"][\"AccessKeyId\"],\n",
    "\n",
    "        aws_secret_access_key=response[\"Credentials\"][\"SecretAccessKey\"],\n",
    "\n",
    "        aws_session_token=response[\"Credentials\"][\"SessionToken\"],\n",
    "\n",
    "        region_name=region, )\n",
    "\n",
    "s3_client = boto_session_data_lake_access.client(\"s3\")\n",
    "\n",
    "#Retrieve the AWS account number\n",
    "account_number = sts_client.get_caller_identity().get('Account')\n",
    "#print(\"AWS Account Number:\", account_number)\n"
   ]
  },
  {
   "cell_type": "code",
   "execution_count": null,
   "id": "a2b9fe93-ebe4-4dd4-81c6-3630486e88d5",
   "metadata": {
    "tags": []
   },
   "outputs": [],
   "source": [
    "#Connection with Athena using arn role.\n",
    "import boto3\n",
    "import time\n",
    "\n",
    "sts_client = boto3.client('sts')\n",
    "\n",
    "assumed_role_object = sts_client.assume_role(\n",
    "    RoleArn='arn:aws:iam::511372950887:role/askdb-project-role-llm-bi',\n",
    "    RoleSessionName='askdb_account_datalake_access'\n",
    ")\n",
    "credentials = assumed_role_object['Credentials']\n",
    "\n",
    "session = boto3.Session(\n",
    "    aws_access_key_id=credentials['AccessKeyId'],\n",
    "    aws_secret_access_key=credentials['SecretAccessKey'],\n",
    "    aws_session_token=credentials['SessionToken']\n",
    ")\n",
    "\n",
    "athena_client=session.client('athena', 'eu-central-1')\n",
    "glue_client=session.client('glue', 'eu-central-1')"
   ]
  },
  {
   "cell_type": "markdown",
   "id": "c9ac0aa7-8711-48c4-a68e-20ea84f5798a",
   "metadata": {},
   "source": [
    "# Testing The Query"
   ]
  },
  {
   "cell_type": "code",
   "execution_count": null,
   "id": "ecde31a4-1dda-4a0c-92c8-31229763c393",
   "metadata": {
    "tags": []
   },
   "outputs": [
    {
     "name": "stdout",
     "output_type": "stream",
     "text": [
      "   open_delivery_qty_kg country_final_dest\n",
      "0                 2.000           Thailand\n",
      "1               -40.000            Germany\n",
      "2                                  Germany\n",
      "3                 0.000            Germany\n",
      "4                 1.000                USA\n",
      "5               -60.000            Germany\n",
      "6               -28.000            Germany\n",
      "7                                      USA\n",
      "8                 0.000                USA\n",
      "9               -32.000            Germany\n",
      "10               10.000           Thailand\n",
      "11                4.000                USA\n",
      "12              -10.000            Germany\n",
      "13              -50.000            Germany\n",
      "14               -8.000            Germany\n",
      "15            20000.000            Germany\n",
      "16              -24.000            Germany\n",
      "17                5.000            Germany\n",
      "18             -900.000            Germany\n",
      "19                                Thailand\n",
      "20                0.000           Thailand\n",
      "21              -14.000            Germany\n",
      "22                1.000            Germany\n",
      "23              -12.000            Germany\n",
      "24                1.000           Thailand\n",
      "25                5.000           Thailand\n",
      "26            21773.000                USA\n",
      "27               -6.000            Germany\n"
     ]
    }
   ],
   "source": [
    "import pandas as pd\n",
    "import time\n",
    "import boto3\n",
    "\n",
    "\n",
    "query = \"\"\"SELECT DISTINCT(open_delivery_qty_kg), country_final_dest\n",
    "            FROM llm_dummy_q001\n",
    "            WHERE country_final_dest IN ('USA','Thailand','Germany');\"\"\"\n",
    "\n",
    "\n",
    "\n",
    "\n",
    "response = athena_client.start_query_execution(\n",
    "    QueryString=query,\n",
    "    QueryExecutionContext={\n",
    "        'Database': 'llm'\n",
    "    },\n",
    "    ResultConfiguration={\n",
    "        'OutputLocation': 's3://askdb-qa-user-data/projects/askdb_dir/athena-results/'\n",
    "    }\n",
    ")\n",
    "\n",
    "query_execution_id = response['QueryExecutionId']\n",
    "\n",
    "# Wait for query execution to complete\n",
    "while True:\n",
    "    query_execution = athena_client.get_query_execution(QueryExecutionId=query_execution_id)\n",
    "    query_status = query_execution['QueryExecution']['Status']['State']\n",
    "    \n",
    "    if query_status in ['SUCCEEDED', 'FAILED', 'CANCELLED']:\n",
    "        break\n",
    "    time.sleep(5)\n",
    "\n",
    "if query_status == 'SUCCEEDED':\n",
    "    # Get query results\n",
    "    results = athena_client.get_query_results(QueryExecutionId=query_execution_id)\n",
    "    #print(results)\n",
    "    \n",
    "    # Extract column names\n",
    "    column_names = [col['Label'] for col in results['ResultSet']['ResultSetMetadata']['ColumnInfo']]\n",
    "    #print(column_names)\n",
    "    \n",
    "    # Extract row values\n",
    "    row_values = []\n",
    "    for row in results['ResultSet']['Rows'][1:]:\n",
    "        row_data = row.get('Data', [])\n",
    "        row_values.append([cell.get('VarCharValue', '') for cell in row_data])\n",
    "        #row_values.append([cell['VarCharValue'] for cell in row['Data']])\n",
    "    \n",
    "    # Create a DataFrame\n",
    "    df = pd.DataFrame(row_values, columns=column_names)\n",
    "    \n",
    "    # Display the DataFrame\n",
    "    print(df)\n",
    "    \n",
    "    # Save the DataFrame to a CSV file\n",
    "    #df.to_csv('output.csv', index=False)\n",
    "else:\n",
    "    print(\"Query execution failed\")\n"
   ]
  },
  {
   "cell_type": "code",
   "execution_count": null,
   "id": "d5324dbe-09fd-4c3b-8304-29fab1fb6bcb",
   "metadata": {},
   "outputs": [],
   "source": []
  },
  {
   "cell_type": "code",
   "execution_count": null,
   "id": "98c580e4-f309-4857-9abf-ab8797323faa",
   "metadata": {},
   "outputs": [],
   "source": []
  },
  {
   "cell_type": "code",
   "execution_count": 10,
   "id": "0bdc3bf9-7e4e-4291-9685-7da230fbf6e3",
   "metadata": {
    "tags": []
   },
   "outputs": [
    {
     "data": {
      "text/html": [
       "<div>\n",
       "<style scoped>\n",
       "    .dataframe tbody tr th:only-of-type {\n",
       "        vertical-align: middle;\n",
       "    }\n",
       "\n",
       "    .dataframe tbody tr th {\n",
       "        vertical-align: top;\n",
       "    }\n",
       "\n",
       "    .dataframe thead th {\n",
       "        text-align: right;\n",
       "    }\n",
       "</style>\n",
       "<table border=\"1\" class=\"dataframe\">\n",
       "  <thead>\n",
       "    <tr style=\"text-align: right;\">\n",
       "      <th></th>\n",
       "      <th>open_delivery_qty_kg</th>\n",
       "      <th>country_final_dest</th>\n",
       "    </tr>\n",
       "  </thead>\n",
       "  <tbody>\n",
       "    <tr>\n",
       "      <th>0</th>\n",
       "      <td>2.000</td>\n",
       "      <td>Thailand</td>\n",
       "    </tr>\n",
       "    <tr>\n",
       "      <th>1</th>\n",
       "      <td>-40.000</td>\n",
       "      <td>Germany</td>\n",
       "    </tr>\n",
       "    <tr>\n",
       "      <th>2</th>\n",
       "      <td></td>\n",
       "      <td>Germany</td>\n",
       "    </tr>\n",
       "    <tr>\n",
       "      <th>3</th>\n",
       "      <td>0.000</td>\n",
       "      <td>Germany</td>\n",
       "    </tr>\n",
       "    <tr>\n",
       "      <th>4</th>\n",
       "      <td>1.000</td>\n",
       "      <td>USA</td>\n",
       "    </tr>\n",
       "  </tbody>\n",
       "</table>\n",
       "</div>"
      ],
      "text/plain": [
       "  open_delivery_qty_kg country_final_dest\n",
       "0                2.000           Thailand\n",
       "1              -40.000            Germany\n",
       "2                                 Germany\n",
       "3                0.000            Germany\n",
       "4                1.000                USA"
      ]
     },
     "execution_count": 10,
     "metadata": {},
     "output_type": "execute_result"
    }
   ],
   "source": [
    "df.head()"
   ]
  },
  {
   "cell_type": "code",
   "execution_count": 14,
   "id": "cfe1803d-b316-4730-8553-fdf5a13836e1",
   "metadata": {
    "tags": []
   },
   "outputs": [],
   "source": [
    "database_response = df.to_string(index=False)"
   ]
  },
  {
   "cell_type": "code",
   "execution_count": null,
   "id": "ef3c80cd-38f9-4554-bc8c-3634554426a3",
   "metadata": {},
   "outputs": [],
   "source": []
  },
  {
   "cell_type": "markdown",
   "id": "18b74d40-ca54-4621-a8b0-b3cfdfae8563",
   "metadata": {},
   "source": [
    "### Part 2: Pass database response to LLM for summarizing the response in natural language"
   ]
  },
  {
   "cell_type": "code",
   "execution_count": 21,
   "id": "636e480e-8424-4ffe-9d6f-bf5757da0389",
   "metadata": {
    "tags": []
   },
   "outputs": [],
   "source": [
    "# %pip install --no-build-isolation --force-reinstall \\\n",
    "#     dependencies/awscli-*-py3-none-any.whl \\\n",
    "#     dependencies/boto3-*-py3-none-any.whl \\\n",
    "#     dependencies/botocore-*-py3-none-any.whl"
   ]
  },
  {
   "cell_type": "code",
   "execution_count": 27,
   "id": "6c670fed-6fcf-47ea-9ffe-85492ab01fbd",
   "metadata": {
    "tags": []
   },
   "outputs": [],
   "source": [
    "# !pip install --quiet \"faiss-cpu>=1.7,<2\" \"ipywidgets>=7,<8\" langchain==0.0.249 \"pypdf>=3.8,<4\""
   ]
  },
  {
   "cell_type": "code",
   "execution_count": null,
   "id": "9230353c-fae5-4d87-a1d0-8bac0dbb6fd2",
   "metadata": {
    "tags": []
   },
   "outputs": [
    {
     "name": "stdout",
     "output_type": "stream",
     "text": [
      "Create new client\n",
      "  Using region: us-east-1\n",
      "  Using role: arn:aws:iam::126225155318:role/cov-bedrock-cross-account ... successful!\n",
      "boto3 Bedrock client successfully created!\n",
      "bedrock(https://bedrock.us-east-1.amazonaws.com)\n"
     ]
    }
   ],
   "source": [
    "import os\n",
    "from utils import bedrock, print_ww\n",
    "\n",
    "os.environ[\"AWS_DEFAULT_REGION\"] = \"us-east-1\"  \n",
    "os.environ[\"BEDROCK_ASSUME_ROLE\"] = \"arn:aws:iam::126225155318:role/askdb-bedrock-cross-account\"  \n",
    "\n",
    "    \n",
    "boto3_bedrock = bedrock.get_bedrock_client(assumed_role=os.environ.get(\"BEDROCK_ASSUME_ROLE\", None),                                           region=os.environ.get(\"AWS_DEFAULT_REGION\", None),)"
   ]
  },
  {
   "cell_type": "code",
   "execution_count": 29,
   "id": "f249e618-2fd4-48d9-a5d6-f5aa576f6b47",
   "metadata": {
    "tags": []
   },
   "outputs": [],
   "source": [
    "from langchain.llms.bedrock import Bedrock\n",
    "from langchain.chains import ConversationChain\n",
    "\n",
    "claude_llm = Bedrock(model_id=\"anthropic.claude-v2\", \n",
    "                     client=boto3_bedrock, \n",
    "                     model_kwargs={\"max_tokens_to_sample\": 8190, \"temperature\":0})\n",
    "\n",
    "conversation = ConversationChain(llm=claude_llm, verbose=False)"
   ]
  },
  {
   "cell_type": "code",
   "execution_count": 30,
   "id": "2295a0d5-f05e-4d06-ba32-ff1b8a9341e5",
   "metadata": {
    "tags": []
   },
   "outputs": [],
   "source": [
    "final_prompt = f\"\"\"Please summarize the following DataFrame: {database_response}\"\"\""
   ]
  },
  {
   "cell_type": "code",
   "execution_count": 32,
   "id": "c71f8988-002a-444a-8fb3-0bfaddbec7ae",
   "metadata": {
    "tags": []
   },
   "outputs": [
    {
     "name": "stdout",
     "output_type": "stream",
     "text": [
      " Here is a high-level summary of the key points from the DataFrame:\n",
      "\n",
      "- Contains open delivery quantities (kg) and destination countries for 25 rows\n",
      "- 3 countries represented: Thailand, Germany, USA\n",
      "- Quantities range from -900,000 kg to 20,000 kg  \n",
      "- Germany has most rows (18) and largest total negative quantity (-1,153,000 kg)\n",
      "- USA has single largest positive quantity (20,000 kg)\n",
      "- Totals by country:\n",
      "  - Thailand: 2,000 kg\n",
      "  - Germany: -1,153,000 kg\n",
      "  - USA: 21,774 kg\n",
      "\n",
      "Let me know if you need any specific additional details summarized!\n"
     ]
    }
   ],
   "source": [
    "print(conversation.predict(input=final_prompt))"
   ]
  },
  {
   "cell_type": "code",
   "execution_count": 4,
   "id": "0335cf4c-5a66-44b5-95fc-721d18531b0a",
   "metadata": {
    "tags": []
   },
   "outputs": [
    {
     "name": "stderr",
     "output_type": "stream",
     "text": [
      "2023-09-18 05:15:22.194 \n",
      "  \u001b[33m\u001b[1mWarning:\u001b[0m to view this Streamlit app on a browser, run it with the following\n",
      "  command:\n",
      "\n",
      "    streamlit run /opt/conda/lib/python3.10/site-packages/ipykernel_launcher.py [ARGUMENTS]\n"
     ]
    }
   ],
   "source": [
    "import streamlit as st\n",
    "\n",
    "\n",
    "def display_sql_query():\n",
    "    sql_query = \"Select * from employee where id>251;\"\n",
    "    response = f\"SQL query: '{sql_query}'\"\n",
    "    return response\n",
    "\n",
    "def display_summary():\n",
    "    summary = \"There are total 500 employees whose id is greater than 251. Among them 150 are male and 101 are female\"\n",
    "    response = f\"summary: '{summary}'\"\n",
    "    return response\n",
    "\n",
    "def main():\n",
    "    st.title(\"Chat with SAP-BW Data using Gen-AI\")\n",
    "    \n",
    "    \n",
    "    user_input = st.text_input(\"Ask your question:\")\n",
    "    \n",
    "    if st.button(\"Submit\"):\n",
    "        if user_input:\n",
    "            \n",
    "            st.write(f\"You asked: '{user_input}'\")\n",
    "            \n",
    "            sql_response = display_sql_query()\n",
    "            summary_response = display_summary()\n",
    "\n",
    "            st.write(sql_response)\n",
    "            st.write(summary_response)\n",
    "        else:\n",
    "            st.warning(\"Please enter a message.\")\n",
    "\n",
    "if __name__ == \"__main__\":\n",
    "    main()\n"
   ]
  },
  {
   "cell_type": "code",
   "execution_count": 7,
   "id": "e90d6be0-cf4d-4136-8b0c-a99327ec94fc",
   "metadata": {
    "tags": []
   },
   "outputs": [
    {
     "name": "stdout",
     "output_type": "stream",
     "text": [
      "\n",
      "Collecting usage statistics. To deactivate, set browser.gatherUsageStats to False.\n",
      "\u001b[0m\n",
      "\u001b[0m\n",
      "\u001b[34m\u001b[1m  You can now view your Streamlit app in your browser.\u001b[0m\n",
      "\u001b[0m\n",
      "\u001b[34m  Network URL: \u001b[0m\u001b[1mhttp://169.255.254.1:8501\u001b[0m\n",
      "\u001b[34m  External URL: \u001b[0m\u001b[1mhttp://54.154.213.168:8501\u001b[0m\n",
      "\u001b[0m\n",
      "^C\n",
      "\u001b[34m  Stopping...\u001b[0m\n"
     ]
    }
   ],
   "source": [
    "!streamlit run app.py"
   ]
  },
  {
   "cell_type": "code",
   "execution_count": null,
   "id": "615a4f5b-d788-4a04-86dc-b33f2e3171bb",
   "metadata": {},
   "outputs": [],
   "source": []
  }
 ],
 "metadata": {
  "availableInstances": [
   {
    "_defaultOrder": 0,
    "_isFastLaunch": true,
    "category": "General purpose",
    "gpuNum": 0,
    "hideHardwareSpecs": false,
    "memoryGiB": 4,
    "name": "ml.t3.medium",
    "vcpuNum": 2
   },
   {
    "_defaultOrder": 1,
    "_isFastLaunch": false,
    "category": "General purpose",
    "gpuNum": 0,
    "hideHardwareSpecs": false,
    "memoryGiB": 8,
    "name": "ml.t3.large",
    "vcpuNum": 2
   },
   {
    "_defaultOrder": 2,
    "_isFastLaunch": false,
    "category": "General purpose",
    "gpuNum": 0,
    "hideHardwareSpecs": false,
    "memoryGiB": 16,
    "name": "ml.t3.xlarge",
    "vcpuNum": 4
   },
   {
    "_defaultOrder": 3,
    "_isFastLaunch": false,
    "category": "General purpose",
    "gpuNum": 0,
    "hideHardwareSpecs": false,
    "memoryGiB": 32,
    "name": "ml.t3.2xlarge",
    "vcpuNum": 8
   },
   {
    "_defaultOrder": 4,
    "_isFastLaunch": true,
    "category": "General purpose",
    "gpuNum": 0,
    "hideHardwareSpecs": false,
    "memoryGiB": 8,
    "name": "ml.m5.large",
    "vcpuNum": 2
   },
   {
    "_defaultOrder": 5,
    "_isFastLaunch": false,
    "category": "General purpose",
    "gpuNum": 0,
    "hideHardwareSpecs": false,
    "memoryGiB": 16,
    "name": "ml.m5.xlarge",
    "vcpuNum": 4
   },
   {
    "_defaultOrder": 6,
    "_isFastLaunch": false,
    "category": "General purpose",
    "gpuNum": 0,
    "hideHardwareSpecs": false,
    "memoryGiB": 32,
    "name": "ml.m5.2xlarge",
    "vcpuNum": 8
   },
   {
    "_defaultOrder": 7,
    "_isFastLaunch": false,
    "category": "General purpose",
    "gpuNum": 0,
    "hideHardwareSpecs": false,
    "memoryGiB": 64,
    "name": "ml.m5.4xlarge",
    "vcpuNum": 16
   },
   {
    "_defaultOrder": 8,
    "_isFastLaunch": false,
    "category": "General purpose",
    "gpuNum": 0,
    "hideHardwareSpecs": false,
    "memoryGiB": 128,
    "name": "ml.m5.8xlarge",
    "vcpuNum": 32
   },
   {
    "_defaultOrder": 9,
    "_isFastLaunch": false,
    "category": "General purpose",
    "gpuNum": 0,
    "hideHardwareSpecs": false,
    "memoryGiB": 192,
    "name": "ml.m5.12xlarge",
    "vcpuNum": 48
   },
   {
    "_defaultOrder": 10,
    "_isFastLaunch": false,
    "category": "General purpose",
    "gpuNum": 0,
    "hideHardwareSpecs": false,
    "memoryGiB": 256,
    "name": "ml.m5.16xlarge",
    "vcpuNum": 64
   },
   {
    "_defaultOrder": 11,
    "_isFastLaunch": false,
    "category": "General purpose",
    "gpuNum": 0,
    "hideHardwareSpecs": false,
    "memoryGiB": 384,
    "name": "ml.m5.24xlarge",
    "vcpuNum": 96
   },
   {
    "_defaultOrder": 12,
    "_isFastLaunch": false,
    "category": "General purpose",
    "gpuNum": 0,
    "hideHardwareSpecs": false,
    "memoryGiB": 8,
    "name": "ml.m5d.large",
    "vcpuNum": 2
   },
   {
    "_defaultOrder": 13,
    "_isFastLaunch": false,
    "category": "General purpose",
    "gpuNum": 0,
    "hideHardwareSpecs": false,
    "memoryGiB": 16,
    "name": "ml.m5d.xlarge",
    "vcpuNum": 4
   },
   {
    "_defaultOrder": 14,
    "_isFastLaunch": false,
    "category": "General purpose",
    "gpuNum": 0,
    "hideHardwareSpecs": false,
    "memoryGiB": 32,
    "name": "ml.m5d.2xlarge",
    "vcpuNum": 8
   },
   {
    "_defaultOrder": 15,
    "_isFastLaunch": false,
    "category": "General purpose",
    "gpuNum": 0,
    "hideHardwareSpecs": false,
    "memoryGiB": 64,
    "name": "ml.m5d.4xlarge",
    "vcpuNum": 16
   },
   {
    "_defaultOrder": 16,
    "_isFastLaunch": false,
    "category": "General purpose",
    "gpuNum": 0,
    "hideHardwareSpecs": false,
    "memoryGiB": 128,
    "name": "ml.m5d.8xlarge",
    "vcpuNum": 32
   },
   {
    "_defaultOrder": 17,
    "_isFastLaunch": false,
    "category": "General purpose",
    "gpuNum": 0,
    "hideHardwareSpecs": false,
    "memoryGiB": 192,
    "name": "ml.m5d.12xlarge",
    "vcpuNum": 48
   },
   {
    "_defaultOrder": 18,
    "_isFastLaunch": false,
    "category": "General purpose",
    "gpuNum": 0,
    "hideHardwareSpecs": false,
    "memoryGiB": 256,
    "name": "ml.m5d.16xlarge",
    "vcpuNum": 64
   },
   {
    "_defaultOrder": 19,
    "_isFastLaunch": false,
    "category": "General purpose",
    "gpuNum": 0,
    "hideHardwareSpecs": false,
    "memoryGiB": 384,
    "name": "ml.m5d.24xlarge",
    "vcpuNum": 96
   },
   {
    "_defaultOrder": 20,
    "_isFastLaunch": false,
    "category": "General purpose",
    "gpuNum": 0,
    "hideHardwareSpecs": true,
    "memoryGiB": 0,
    "name": "ml.geospatial.interactive",
    "supportedImageNames": [
     "sagemaker-geospatial-v1-0"
    ],
    "vcpuNum": 0
   },
   {
    "_defaultOrder": 21,
    "_isFastLaunch": true,
    "category": "Compute optimized",
    "gpuNum": 0,
    "hideHardwareSpecs": false,
    "memoryGiB": 4,
    "name": "ml.c5.large",
    "vcpuNum": 2
   },
   {
    "_defaultOrder": 22,
    "_isFastLaunch": false,
    "category": "Compute optimized",
    "gpuNum": 0,
    "hideHardwareSpecs": false,
    "memoryGiB": 8,
    "name": "ml.c5.xlarge",
    "vcpuNum": 4
   },
   {
    "_defaultOrder": 23,
    "_isFastLaunch": false,
    "category": "Compute optimized",
    "gpuNum": 0,
    "hideHardwareSpecs": false,
    "memoryGiB": 16,
    "name": "ml.c5.2xlarge",
    "vcpuNum": 8
   },
   {
    "_defaultOrder": 24,
    "_isFastLaunch": false,
    "category": "Compute optimized",
    "gpuNum": 0,
    "hideHardwareSpecs": false,
    "memoryGiB": 32,
    "name": "ml.c5.4xlarge",
    "vcpuNum": 16
   },
   {
    "_defaultOrder": 25,
    "_isFastLaunch": false,
    "category": "Compute optimized",
    "gpuNum": 0,
    "hideHardwareSpecs": false,
    "memoryGiB": 72,
    "name": "ml.c5.9xlarge",
    "vcpuNum": 36
   },
   {
    "_defaultOrder": 26,
    "_isFastLaunch": false,
    "category": "Compute optimized",
    "gpuNum": 0,
    "hideHardwareSpecs": false,
    "memoryGiB": 96,
    "name": "ml.c5.12xlarge",
    "vcpuNum": 48
   },
   {
    "_defaultOrder": 27,
    "_isFastLaunch": false,
    "category": "Compute optimized",
    "gpuNum": 0,
    "hideHardwareSpecs": false,
    "memoryGiB": 144,
    "name": "ml.c5.18xlarge",
    "vcpuNum": 72
   },
   {
    "_defaultOrder": 28,
    "_isFastLaunch": false,
    "category": "Compute optimized",
    "gpuNum": 0,
    "hideHardwareSpecs": false,
    "memoryGiB": 192,
    "name": "ml.c5.24xlarge",
    "vcpuNum": 96
   },
   {
    "_defaultOrder": 29,
    "_isFastLaunch": true,
    "category": "Accelerated computing",
    "gpuNum": 1,
    "hideHardwareSpecs": false,
    "memoryGiB": 16,
    "name": "ml.g4dn.xlarge",
    "vcpuNum": 4
   },
   {
    "_defaultOrder": 30,
    "_isFastLaunch": false,
    "category": "Accelerated computing",
    "gpuNum": 1,
    "hideHardwareSpecs": false,
    "memoryGiB": 32,
    "name": "ml.g4dn.2xlarge",
    "vcpuNum": 8
   },
   {
    "_defaultOrder": 31,
    "_isFastLaunch": false,
    "category": "Accelerated computing",
    "gpuNum": 1,
    "hideHardwareSpecs": false,
    "memoryGiB": 64,
    "name": "ml.g4dn.4xlarge",
    "vcpuNum": 16
   },
   {
    "_defaultOrder": 32,
    "_isFastLaunch": false,
    "category": "Accelerated computing",
    "gpuNum": 1,
    "hideHardwareSpecs": false,
    "memoryGiB": 128,
    "name": "ml.g4dn.8xlarge",
    "vcpuNum": 32
   },
   {
    "_defaultOrder": 33,
    "_isFastLaunch": false,
    "category": "Accelerated computing",
    "gpuNum": 4,
    "hideHardwareSpecs": false,
    "memoryGiB": 192,
    "name": "ml.g4dn.12xlarge",
    "vcpuNum": 48
   },
   {
    "_defaultOrder": 34,
    "_isFastLaunch": false,
    "category": "Accelerated computing",
    "gpuNum": 1,
    "hideHardwareSpecs": false,
    "memoryGiB": 256,
    "name": "ml.g4dn.16xlarge",
    "vcpuNum": 64
   },
   {
    "_defaultOrder": 35,
    "_isFastLaunch": false,
    "category": "Accelerated computing",
    "gpuNum": 1,
    "hideHardwareSpecs": false,
    "memoryGiB": 61,
    "name": "ml.p3.2xlarge",
    "vcpuNum": 8
   },
   {
    "_defaultOrder": 36,
    "_isFastLaunch": false,
    "category": "Accelerated computing",
    "gpuNum": 4,
    "hideHardwareSpecs": false,
    "memoryGiB": 244,
    "name": "ml.p3.8xlarge",
    "vcpuNum": 32
   },
   {
    "_defaultOrder": 37,
    "_isFastLaunch": false,
    "category": "Accelerated computing",
    "gpuNum": 8,
    "hideHardwareSpecs": false,
    "memoryGiB": 488,
    "name": "ml.p3.16xlarge",
    "vcpuNum": 64
   },
   {
    "_defaultOrder": 38,
    "_isFastLaunch": false,
    "category": "Accelerated computing",
    "gpuNum": 8,
    "hideHardwareSpecs": false,
    "memoryGiB": 768,
    "name": "ml.p3dn.24xlarge",
    "vcpuNum": 96
   },
   {
    "_defaultOrder": 39,
    "_isFastLaunch": false,
    "category": "Memory Optimized",
    "gpuNum": 0,
    "hideHardwareSpecs": false,
    "memoryGiB": 16,
    "name": "ml.r5.large",
    "vcpuNum": 2
   },
   {
    "_defaultOrder": 40,
    "_isFastLaunch": false,
    "category": "Memory Optimized",
    "gpuNum": 0,
    "hideHardwareSpecs": false,
    "memoryGiB": 32,
    "name": "ml.r5.xlarge",
    "vcpuNum": 4
   },
   {
    "_defaultOrder": 41,
    "_isFastLaunch": false,
    "category": "Memory Optimized",
    "gpuNum": 0,
    "hideHardwareSpecs": false,
    "memoryGiB": 64,
    "name": "ml.r5.2xlarge",
    "vcpuNum": 8
   },
   {
    "_defaultOrder": 42,
    "_isFastLaunch": false,
    "category": "Memory Optimized",
    "gpuNum": 0,
    "hideHardwareSpecs": false,
    "memoryGiB": 128,
    "name": "ml.r5.4xlarge",
    "vcpuNum": 16
   },
   {
    "_defaultOrder": 43,
    "_isFastLaunch": false,
    "category": "Memory Optimized",
    "gpuNum": 0,
    "hideHardwareSpecs": false,
    "memoryGiB": 256,
    "name": "ml.r5.8xlarge",
    "vcpuNum": 32
   },
   {
    "_defaultOrder": 44,
    "_isFastLaunch": false,
    "category": "Memory Optimized",
    "gpuNum": 0,
    "hideHardwareSpecs": false,
    "memoryGiB": 384,
    "name": "ml.r5.12xlarge",
    "vcpuNum": 48
   },
   {
    "_defaultOrder": 45,
    "_isFastLaunch": false,
    "category": "Memory Optimized",
    "gpuNum": 0,
    "hideHardwareSpecs": false,
    "memoryGiB": 512,
    "name": "ml.r5.16xlarge",
    "vcpuNum": 64
   },
   {
    "_defaultOrder": 46,
    "_isFastLaunch": false,
    "category": "Memory Optimized",
    "gpuNum": 0,
    "hideHardwareSpecs": false,
    "memoryGiB": 768,
    "name": "ml.r5.24xlarge",
    "vcpuNum": 96
   },
   {
    "_defaultOrder": 47,
    "_isFastLaunch": false,
    "category": "Accelerated computing",
    "gpuNum": 1,
    "hideHardwareSpecs": false,
    "memoryGiB": 16,
    "name": "ml.g5.xlarge",
    "vcpuNum": 4
   },
   {
    "_defaultOrder": 48,
    "_isFastLaunch": false,
    "category": "Accelerated computing",
    "gpuNum": 1,
    "hideHardwareSpecs": false,
    "memoryGiB": 32,
    "name": "ml.g5.2xlarge",
    "vcpuNum": 8
   },
   {
    "_defaultOrder": 49,
    "_isFastLaunch": false,
    "category": "Accelerated computing",
    "gpuNum": 1,
    "hideHardwareSpecs": false,
    "memoryGiB": 64,
    "name": "ml.g5.4xlarge",
    "vcpuNum": 16
   },
   {
    "_defaultOrder": 50,
    "_isFastLaunch": false,
    "category": "Accelerated computing",
    "gpuNum": 1,
    "hideHardwareSpecs": false,
    "memoryGiB": 128,
    "name": "ml.g5.8xlarge",
    "vcpuNum": 32
   },
   {
    "_defaultOrder": 51,
    "_isFastLaunch": false,
    "category": "Accelerated computing",
    "gpuNum": 1,
    "hideHardwareSpecs": false,
    "memoryGiB": 256,
    "name": "ml.g5.16xlarge",
    "vcpuNum": 64
   },
   {
    "_defaultOrder": 52,
    "_isFastLaunch": false,
    "category": "Accelerated computing",
    "gpuNum": 4,
    "hideHardwareSpecs": false,
    "memoryGiB": 192,
    "name": "ml.g5.12xlarge",
    "vcpuNum": 48
   },
   {
    "_defaultOrder": 53,
    "_isFastLaunch": false,
    "category": "Accelerated computing",
    "gpuNum": 4,
    "hideHardwareSpecs": false,
    "memoryGiB": 384,
    "name": "ml.g5.24xlarge",
    "vcpuNum": 96
   },
   {
    "_defaultOrder": 54,
    "_isFastLaunch": false,
    "category": "Accelerated computing",
    "gpuNum": 8,
    "hideHardwareSpecs": false,
    "memoryGiB": 768,
    "name": "ml.g5.48xlarge",
    "vcpuNum": 192
   },
   {
    "_defaultOrder": 55,
    "_isFastLaunch": false,
    "category": "Accelerated computing",
    "gpuNum": 8,
    "hideHardwareSpecs": false,
    "memoryGiB": 1152,
    "name": "ml.p4d.24xlarge",
    "vcpuNum": 96
   },
   {
    "_defaultOrder": 56,
    "_isFastLaunch": false,
    "category": "Accelerated computing",
    "gpuNum": 8,
    "hideHardwareSpecs": false,
    "memoryGiB": 1152,
    "name": "ml.p4de.24xlarge",
    "vcpuNum": 96
   }
  ],
  "instance_type": "ml.t3.medium",
  "kernelspec": {
   "display_name": "Python 3 (Data Science 3.0)",
   "language": "python",
   "name": "python3__SAGEMAKER_INTERNAL__arn:aws:sagemaker:eu-west-1:470317259841:image/sagemaker-data-science-310-v1"
  },
  "language_info": {
   "codemirror_mode": {
    "name": "ipython",
    "version": 3
   },
   "file_extension": ".py",
   "mimetype": "text/x-python",
   "name": "python",
   "nbconvert_exporter": "python",
   "pygments_lexer": "ipython3",
   "version": "3.10.6"
  }
 },
 "nbformat": 4,
 "nbformat_minor": 5
}
